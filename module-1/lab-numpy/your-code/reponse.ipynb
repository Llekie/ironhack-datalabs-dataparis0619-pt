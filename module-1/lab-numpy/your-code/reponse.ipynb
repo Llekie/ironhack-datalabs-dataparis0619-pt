{
 "cells": [
  {
   "cell_type": "code",
   "execution_count": 59,
   "metadata": {},
   "outputs": [
    {
     "name": "stdout",
     "output_type": "stream",
     "text": [
      "1.16.2\n"
     ]
    }
   ],
   "source": [
    "#1. Import the NUMPY package under the name np.\n",
    "\n",
    "import numpy as np\n",
    "\n",
    "#2. Print the NUMPY version and the configuration.\n",
    "\n",
    "print(np.__version__)"
   ]
  },
  {
   "cell_type": "code",
   "execution_count": 60,
   "metadata": {},
   "outputs": [
    {
     "name": "stdout",
     "output_type": "stream",
     "text": [
      "[[[0.3631948  0.5266992  0.47002964 0.68542337 0.94663801]\n",
      "  [0.50489695 0.50293053 0.75206734 0.09663964 0.20391218]\n",
      "  [0.26077101 0.28109801 0.79820197 0.65260646 0.02144387]]\n",
      "\n",
      " [[0.63115988 0.89548427 0.87616742 0.09747799 0.72755605]\n",
      "  [0.35497373 0.69156829 0.42840376 0.44665875 0.1384327 ]\n",
      "  [0.50814389 0.63710099 0.07866781 0.71208154 0.50813133]]]\n"
     ]
    }
   ],
   "source": [
    "#3. Generate a 2x3x5 3-dimensional array with random values. Assign the array to variable \"a\"\n",
    "# Challenge: there are at least three easy ways that use numpy to generate random arrays. How many ways can you find?\n",
    "#4. Print a.\n",
    "\n",
    "a = np.random.random((2,3,5))\n",
    "print(a)"
   ]
  },
  {
   "cell_type": "code",
   "execution_count": 61,
   "metadata": {},
   "outputs": [
    {
     "name": "stdout",
     "output_type": "stream",
     "text": [
      "[[[19 32 13 46 23]\n",
      "  [72  8 27 38 29]\n",
      "  [22 22 37 25 32]]\n",
      "\n",
      " [[20 27 17 32 38]\n",
      "  [15  6  0 38 53]\n",
      "  [78 76 95 30 22]]]\n"
     ]
    }
   ],
   "source": [
    "a1 = np.random.randint(100,size = (2,3,5))\n",
    "print(a1)"
   ]
  },
  {
   "cell_type": "code",
   "execution_count": 62,
   "metadata": {},
   "outputs": [
    {
     "name": "stdout",
     "output_type": "stream",
     "text": [
      "[[[1. 1. 1.]\n",
      "  [1. 1. 1.]]\n",
      "\n",
      " [[1. 1. 1.]\n",
      "  [1. 1. 1.]]\n",
      "\n",
      " [[1. 1. 1.]\n",
      "  [1. 1. 1.]]\n",
      "\n",
      " [[1. 1. 1.]\n",
      "  [1. 1. 1.]]\n",
      "\n",
      " [[1. 1. 1.]\n",
      "  [1. 1. 1.]]]\n"
     ]
    }
   ],
   "source": [
    "#5. Create a 5x2x3 3-dimensional array with all values equaling 1.\n",
    "#Assign the array to variable \"b\"\n",
    "#6. Print b.\n",
    "b = np.ones((5,2,3))\n",
    "print(b)"
   ]
  },
  {
   "cell_type": "code",
   "execution_count": 63,
   "metadata": {},
   "outputs": [
    {
     "name": "stdout",
     "output_type": "stream",
     "text": [
      "True\n"
     ]
    }
   ],
   "source": [
    "#7. Do a and b have the same size? How do you prove that in Python code?\n",
    "print(a.size == b.size)"
   ]
  },
  {
   "cell_type": "code",
   "execution_count": 64,
   "metadata": {},
   "outputs": [
    {
     "ename": "ValueError",
     "evalue": "operands could not be broadcast together with shapes (2,3,5) (5,2,3) ",
     "output_type": "error",
     "traceback": [
      "\u001b[1;31m---------------------------------------------------------------------------\u001b[0m",
      "\u001b[1;31mValueError\u001b[0m                                Traceback (most recent call last)",
      "\u001b[1;32m<ipython-input-64-b4cfac6f34e2>\u001b[0m in \u001b[0;36m<module>\u001b[1;34m\u001b[0m\n\u001b[0;32m      1\u001b[0m \u001b[1;31m#8. Are you able to add a and b? Why or why not?\u001b[0m\u001b[1;33m\u001b[0m\u001b[1;33m\u001b[0m\u001b[1;33m\u001b[0m\u001b[0m\n\u001b[1;32m----> 2\u001b[1;33m \u001b[0mprint\u001b[0m\u001b[1;33m(\u001b[0m\u001b[0mnp\u001b[0m\u001b[1;33m.\u001b[0m\u001b[0madd\u001b[0m\u001b[1;33m(\u001b[0m\u001b[0ma\u001b[0m\u001b[1;33m,\u001b[0m\u001b[0mb\u001b[0m\u001b[1;33m)\u001b[0m\u001b[1;33m)\u001b[0m\u001b[1;33m\u001b[0m\u001b[1;33m\u001b[0m\u001b[0m\n\u001b[0m\u001b[0;32m      3\u001b[0m \u001b[1;31m# les dimensions de a et b ne sont pas équivalentes\u001b[0m\u001b[1;33m\u001b[0m\u001b[1;33m\u001b[0m\u001b[1;33m\u001b[0m\u001b[0m\n",
      "\u001b[1;31mValueError\u001b[0m: operands could not be broadcast together with shapes (2,3,5) (5,2,3) "
     ]
    }
   ],
   "source": [
    "#8. Are you able to add a and b? Why or why not?\n",
    "print(np.add(a,b))\n",
    "# les dimensions de a et b ne sont pas équivalentes"
   ]
  },
  {
   "cell_type": "code",
   "execution_count": 65,
   "metadata": {},
   "outputs": [
    {
     "name": "stdout",
     "output_type": "stream",
     "text": [
      "[[[1. 1. 1. 1. 1.]\n",
      "  [1. 1. 1. 1. 1.]\n",
      "  [1. 1. 1. 1. 1.]]\n",
      "\n",
      " [[1. 1. 1. 1. 1.]\n",
      "  [1. 1. 1. 1. 1.]\n",
      "  [1. 1. 1. 1. 1.]]]\n"
     ]
    }
   ],
   "source": [
    "#9. Transpose b so that it has the same structure of a (i.e. become a 2x3x5 array). Assign the transposed array to varialbe \"c\".\n",
    "c = np.transpose(b, (1,2,0))\n",
    "print(c)"
   ]
  },
  {
   "cell_type": "code",
   "execution_count": 66,
   "metadata": {},
   "outputs": [],
   "source": [
    "#10. Try to add a and c. Now it should work. Assign the sum to varialbe \"d\". But why does it work now?\n",
    "d=np.add(a,c)"
   ]
  },
  {
   "cell_type": "code",
   "execution_count": 67,
   "metadata": {},
   "outputs": [
    {
     "name": "stdout",
     "output_type": "stream",
     "text": [
      "[[[0.3631948  0.5266992  0.47002964 0.68542337 0.94663801]\n",
      "  [0.50489695 0.50293053 0.75206734 0.09663964 0.20391218]\n",
      "  [0.26077101 0.28109801 0.79820197 0.65260646 0.02144387]]\n",
      "\n",
      " [[0.63115988 0.89548427 0.87616742 0.09747799 0.72755605]\n",
      "  [0.35497373 0.69156829 0.42840376 0.44665875 0.1384327 ]\n",
      "  [0.50814389 0.63710099 0.07866781 0.71208154 0.50813133]]]\n",
      "[[[1.3631948  1.5266992  1.47002964 1.68542337 1.94663801]\n",
      "  [1.50489695 1.50293053 1.75206734 1.09663964 1.20391218]\n",
      "  [1.26077101 1.28109801 1.79820197 1.65260646 1.02144387]]\n",
      "\n",
      " [[1.63115988 1.89548427 1.87616742 1.09747799 1.72755605]\n",
      "  [1.35497373 1.69156829 1.42840376 1.44665875 1.1384327 ]\n",
      "  [1.50814389 1.63710099 1.07866781 1.71208154 1.50813133]]]\n",
      "d = chaque élément de a + chaque élément de c, donc chaque élément de d = chaque élément de a + 1\n"
     ]
    }
   ],
   "source": [
    "#11. Print a and d. Notice the difference and relation of the two array in terms of the values? Explain.\n",
    "print(a)\n",
    "print(d)\n",
    "print(\"d = chaque élément de a + chaque élément de c, donc chaque élément de d = chaque élément de a + 1\")"
   ]
  },
  {
   "cell_type": "code",
   "execution_count": 68,
   "metadata": {},
   "outputs": [
    {
     "name": "stdout",
     "output_type": "stream",
     "text": [
      "[[[0.3631948  0.5266992  0.47002964 0.68542337 0.94663801]\n",
      "  [0.50489695 0.50293053 0.75206734 0.09663964 0.20391218]\n",
      "  [0.26077101 0.28109801 0.79820197 0.65260646 0.02144387]]\n",
      "\n",
      " [[0.63115988 0.89548427 0.87616742 0.09747799 0.72755605]\n",
      "  [0.35497373 0.69156829 0.42840376 0.44665875 0.1384327 ]\n",
      "  [0.50814389 0.63710099 0.07866781 0.71208154 0.50813133]]]\n"
     ]
    }
   ],
   "source": [
    "#12. Multiply a and c. Assign the result to e.\n",
    "e = a * c\n",
    "print (e)"
   ]
  },
  {
   "cell_type": "code",
   "execution_count": 69,
   "metadata": {},
   "outputs": [
    {
     "name": "stdout",
     "output_type": "stream",
     "text": [
      "[[[ True  True  True  True  True]\n",
      "  [ True  True  True  True  True]\n",
      "  [ True  True  True  True  True]]\n",
      "\n",
      " [[ True  True  True  True  True]\n",
      "  [ True  True  True  True  True]\n",
      "  [ True  True  True  True  True]]]\n",
      "a = e puisque tout a été multiplié par 1\n"
     ]
    }
   ],
   "source": [
    "#13. Does e equal to a? Why or why not?\n",
    "print(a == e)\n",
    "print(\"a = e puisque tout a été multiplié par 1\")"
   ]
  },
  {
   "cell_type": "code",
   "execution_count": 70,
   "metadata": {},
   "outputs": [
    {
     "name": "stdout",
     "output_type": "stream",
     "text": [
      "max de d =  1.946638010211923\n",
      "min de d =  1.0214438718752668\n",
      "moyenne de d =  1.4932853795355403\n"
     ]
    }
   ],
   "source": [
    "#14. Identify the max, min, and mean values in d. Assign those values to variables \"d_max\", \"d_min\", and \"d_mean\"\n",
    "d_max = np.max(d)\n",
    "d_min = np.min(d)\n",
    "d_mean = np.mean(d)\n",
    "\n",
    "print(\"max de d = \",d_max)\n",
    "print(\"min de d = \",d_min)\n",
    "print(\"moyenne de d = \",d_mean)"
   ]
  },
  {
   "cell_type": "code",
   "execution_count": 71,
   "metadata": {},
   "outputs": [],
   "source": [
    "#15. Now we want to label the values in d. First create an empty array \"f\" with the same shape (i.e. 2x3x5) as d using `np.empty`.\n",
    "f = np.empty((2,3,5))"
   ]
  },
  {
   "cell_type": "code",
   "execution_count": 72,
   "metadata": {},
   "outputs": [
    {
     "name": "stdout",
     "output_type": "stream",
     "text": [
      "[[[ 25.  75.  25.  75. 100.]\n",
      "  [ 75.  75.  75.  25.  25.]\n",
      "  [ 25.  25.  75.  75.   0.]]\n",
      "\n",
      " [[ 75.  75.  75.  25.  75.]\n",
      "  [ 25.  75.  25.  25.  25.]\n",
      "  [ 75.  75.  25.  75.  75.]]]\n"
     ]
    }
   ],
   "source": [
    "\"\"\"\n",
    "#16. Populate the values in f. For each value in d, if it's larger than d_min but smaller than d_mean, assign 25 to the corresponding value in f.\n",
    "If a value in d is larger than d_mean but smaller than d_max, assign 75 to the corresponding value in f.\n",
    "If a value equals to d_mean, assign 50 to the corresponding value in f.\n",
    "Assign 0 to the corresponding value(s) in f for d_min in d.\n",
    "Assign 100 to the corresponding value(s) in f for d_max in d.\n",
    "In the end, f should have only the following values: 0, 25, 50, 75, and 100.\n",
    "Note: you don't have to use Numpy in this question.\n",
    "\"\"\"\n",
    "f[(d < d_mean) & (d > d_min)] = 25\n",
    "f[(d > d_mean) & (d < d_max)] = 75\n",
    "f[(d == d_mean)] = 50\n",
    "f[(d == d_min)] = 0\n",
    "f[(d == d_max)] = 100\n",
    "print(f)"
   ]
  },
  {
   "cell_type": "code",
   "execution_count": 73,
   "metadata": {},
   "outputs": [
    {
     "name": "stdout",
     "output_type": "stream",
     "text": [
      "[[[1.3631948  1.5266992  1.47002964 1.68542337 1.94663801]\n",
      "  [1.50489695 1.50293053 1.75206734 1.09663964 1.20391218]\n",
      "  [1.26077101 1.28109801 1.79820197 1.65260646 1.02144387]]\n",
      "\n",
      " [[1.63115988 1.89548427 1.87616742 1.09747799 1.72755605]\n",
      "  [1.35497373 1.69156829 1.42840376 1.44665875 1.1384327 ]\n",
      "  [1.50814389 1.63710099 1.07866781 1.71208154 1.50813133]]]\n",
      "[[[ 25.  75.  25.  75. 100.]\n",
      "  [ 75.  75.  75.  25.  25.]\n",
      "  [ 25.  25.  75.  75.   0.]]\n",
      "\n",
      " [[ 75.  75.  75.  25.  75.]\n",
      "  [ 25.  75.  25.  25.  25.]\n",
      "  [ 75.  75.  25.  75.  75.]]]\n"
     ]
    }
   ],
   "source": [
    "\"\"\"\n",
    "#17. Print d and f. Do you have your expected f?\n",
    "For instance, if your d is:\n",
    "array([[[1.85836099, 1.67064465, 1.62576044, 1.40243961, 1.88454931],\n",
    "        [1.75354326, 1.69403643, 1.36729252, 1.61415071, 1.12104981],\n",
    "        [1.72201435, 1.1862918 , 1.87078449, 1.7726778 , 1.88180042]],\n",
    "\n",
    "       [[1.44747908, 1.31673383, 1.02000951, 1.52218947, 1.97066381],\n",
    "        [1.79129243, 1.74983003, 1.96028037, 1.85166831, 1.65450881],\n",
    "        [1.18068344, 1.9587381 , 1.00656599, 1.93402165, 1.73514584]]])\n",
    "\n",
    "Your f should be:\n",
    "array([[[ 75.,  75.,  75.,  25.,  75.],\n",
    "        [ 75.,  75.,  25.,  25.,  25.],\n",
    "        [ 75.,  25.,  75.,  75.,  75.]],\n",
    "\n",
    "       [[ 25.,  25.,  25.,  25., 100.],\n",
    "        [ 75.,  75.,  75.,  75.,  75.],\n",
    "        [ 25.,  75.,   0.,  75.,  75.]]])\n",
    "\"\"\"\n",
    "\n",
    "print(d)\n",
    "print(f)"
   ]
  },
  {
   "cell_type": "code",
   "execution_count": 75,
   "metadata": {},
   "outputs": [
    {
     "name": "stdout",
     "output_type": "stream",
     "text": [
      "[[['B' 'D' 'B' 'D' 'E']\n",
      "  ['D' 'D' 'D' 'B' 'B']\n",
      "  ['B' 'B' 'D' 'D' 'A']]\n",
      "\n",
      " [['D' 'D' 'D' 'B' 'D']\n",
      "  ['B' 'D' 'B' 'B' 'B']\n",
      "  ['D' 'D' 'B' 'D' 'D']]]\n"
     ]
    }
   ],
   "source": [
    "\"\"\"\n",
    "#18. Bonus question: instead of using numbers (i.e. 0, 25, 50, 75, and 100), how to use string values \n",
    "(\"A\", \"B\", \"C\", \"D\", and \"E\") to label the array elements? You are expecting the result to be:\n",
    "array([[[ 'D',  'D',  'D',  'B',  'D'],\n",
    "        [ 'D',  'D',  'B',  'B',  'B'],\n",
    "        [ 'D',  'B',  'D',  'D',  'D']],\n",
    "\n",
    "       [[ 'B',  'B',  'B',  'B',  'E'],\n",
    "        [ 'D',  'D',  'D',  'D',  'D'],\n",
    "        [ 'B',  'D',   'A',  'D', 'D']]])\n",
    "Again, you don't need Numpy in this question.\n",
    "\"\"\"\n",
    "\n",
    "g = np.empty(d.shape,dtype=object)\n",
    "g[(d < d_mean) & (d > d_min)] = \"B\"\n",
    "g[(d > d_mean) & (d < d_max)] = \"D\"\n",
    "g[(d == d_mean)] = \"C\"\n",
    "g[(d == d_min)] = \"A\"\n",
    "g[(d == d_max)] = \"E\"\n",
    "print(g)"
   ]
  }
 ],
 "metadata": {
  "kernelspec": {
   "display_name": "Python 3",
   "language": "python",
   "name": "python3"
  },
  "language_info": {
   "codemirror_mode": {
    "name": "ipython",
    "version": 3
   },
   "file_extension": ".py",
   "mimetype": "text/x-python",
   "name": "python",
   "nbconvert_exporter": "python",
   "pygments_lexer": "ipython3",
   "version": "3.7.3"
  }
 },
 "nbformat": 4,
 "nbformat_minor": 2
}
