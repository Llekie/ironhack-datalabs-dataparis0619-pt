{
 "cells": [
  {
   "cell_type": "markdown",
   "metadata": {},
   "source": [
    "In the cell below, create a Python function that wraps your previous solution for the Bag of Words lab.\n",
    "\n",
    "Requirements:\n",
    "\n",
    "1. Your function should accept the following parameters:\n",
    "    * `docs` [REQUIRED] - array of document paths.\n",
    "    * `stop_words` [OPTIONAL] - array of stop words. The default value is an empty array.\n",
    "\n",
    "1. Your function should return a Python object that contains the following:\n",
    "    * `bag_of_words` - array of strings of normalized unique words in the corpus.\n",
    "    * `term_freq` - array of the term-frequency vectors."
   ]
  },
  {
   "cell_type": "code",
   "execution_count": 55,
   "metadata": {},
   "outputs": [
    {
     "name": "stdout",
     "output_type": "stream",
     "text": [
      "['ironhack', 'cool', 'love', 'ironhack', 'student', 'ironhack']\n",
      "['cool', 'ironhack', 'love', 'student']\n"
     ]
    },
    {
     "data": {
      "text/plain": [
       "{'bag_of_words': ['cool', 'ironhack', 'love', 'student'],\n",
       " 'term_freq': [[1, 1, 0, 0], [0, 1, 1, 0], [0, 1, 0, 1]]}"
      ]
     },
     "execution_count": 55,
     "metadata": {},
     "output_type": "execute_result"
    }
   ],
   "source": [
    "# Import required libraries\n",
    "import os\n",
    "import pandas as pd\n",
    "import re\n",
    "\n",
    "docs = ['doc1.txt', 'doc2.txt', 'doc3.txt']\n",
    "stop_words = ['all', 'six', 'less', 'being', 'indeed', 'over', 'move', 'anyway', 'fifty', 'four', 'not', 'own', 'through', 'yourselves', 'go', 'where', 'mill', 'only', 'find', 'before', 'one', 'whose', 'system', 'how', 'somewhere', 'with', 'thick', 'show', 'had', 'enough', 'should', 'to', 'must', 'whom', 'seeming', 'under', 'ours', 'has', 'might', 'thereafter', 'latterly', 'do', 'them', 'his', 'around', 'than', 'get', 'very', 'de', 'none', 'cannot', 'every', 'whether', 'they', 'front', 'during', 'thus', 'now', 'him', 'nor', 'name', 'several', 'hereafter', 'always', 'who', 'cry', 'whither', 'this', 'someone', 'either', 'each', 'become', 'thereupon', 'sometime', 'side', 'two', 'therein', 'twelve', 'because', 'often', 'ten', 'our', 'eg', 'some', 'back', 'up', 'namely', 'towards', 'are', 'further', 'beyond', 'ourselves', 'yet', 'out', 'even', 'will', 'what', 'still', 'for', 'bottom', 'mine', 'since', 'please', 'forty', 'per', 'its', 'everything', 'behind', 'un', 'above', 'between', 'it', 'neither', 'seemed', 'ever', 'across', 'she', 'somehow', 'be', 'we', 'full', 'never', 'sixty', 'however', 'here', 'otherwise', 'were', 'whereupon', 'nowhere', 'although', 'found', 'alone', 're', 'along', 'fifteen', 'by', 'both', 'about', 'last', 'would', 'anything', 'via', 'many', 'could', 'thence', 'put', 'against', 'keep', 'etc', 'amount', 'became', 'ltd', 'hence', 'onto', 'or', 'con', 'among', 'already', 'co', 'afterwards', 'formerly', 'within', 'seems', 'into', 'others', 'while', 'whatever', 'except', 'down', 'hers', 'everyone', 'done', 'least', 'another', 'whoever', 'moreover', 'couldnt', 'throughout', 'anyhow', 'yourself', 'three', 'from', 'her', 'few', 'together', 'top', 'there', 'due', 'been', 'next', 'anyone', 'eleven', 'much', 'call', 'therefore', 'interest', 'then', 'thru', 'themselves', 'hundred', 'was', 'sincere', 'empty', 'more', 'himself', 'elsewhere', 'mostly', 'on', 'fire', 'am', 'becoming', 'hereby', 'amongst', 'else', 'part', 'everywhere', 'too', 'herself', 'former', 'those', 'he', 'me', 'myself', 'made', 'twenty', 'these', 'bill', 'cant', 'us', 'until', 'besides', 'nevertheless', 'below', 'anywhere', 'nine', 'can', 'of', 'your', 'toward', 'my', 'something', 'and', 'whereafter', 'whenever', 'give', 'almost', 'wherever', 'is', 'describe', 'beforehand', 'herein', 'an', 'as', 'itself', 'at', 'have', 'in', 'seem', 'whence', 'ie', 'any', 'fill', 'again', 'hasnt', 'inc', 'thereby', 'thin', 'no', 'perhaps', 'latter', 'meanwhile', 'when', 'detail', 'same', 'wherein', 'beside', 'also', 'that', 'other', 'take', 'which', 'becomes', 'you', 'if', 'nobody', 'see', 'though', 'may', 'after', 'upon', 'most', 'hereupon', 'eight', 'but', 'serious', 'nothing', 'such', 'why', 'a', 'off', 'whereby', 'third', 'i', 'whole', 'noone', 'sometimes', 'well', 'amoungst', 'yours', 'their', 'rather', 'without', 'so', 'five', 'the', 'first', 'whereas', 'once']\n",
    "\n",
    "# Define function\n",
    "def get_bow_from_docs(docs, stop_words=[]):\n",
    "\n",
    "    \n",
    "# In the function, first define the variables you will use such as `corpus`, `bag_of_words`, and `term_freq`.\n",
    "#Corpus\n",
    "    corpus = []\n",
    "    for doc in docs:\n",
    "        dossier = \"lab-string-operations\"\n",
    "        sousdossier = \"your-code\"\n",
    "        path = os.path.join(\"..\", \"..\", dossier, sousdossier, doc)\n",
    "        opendoc  = open(path)\n",
    "        texte = opendoc.read ()\n",
    "        corpus.append (texte) \n",
    "    corpus2 = [''.join(re.findall('[A-Za-z\\s]', phrase.lower())) for phrase in corpus]\n",
    "\n",
    "    #bags_of_words\n",
    "    bag_of_words = []\n",
    "    list_of_words = [mot for phrase in corpus2 for mot in phrase.split(' ') if mot.lower() not in stop_words]\n",
    "    bag_of_words = list(set(list_of_words))\n",
    "    print(list_of_words)\n",
    "    print(bag_of_words)\n",
    "\n",
    "#The terms in `bag_of_words` \n",
    "#should be unique which means before adding each term you need to check if it's already added to the array.\n",
    "#In addition, check if each term is in the `stop_words` array. Only append the term to `bag_of_words`\n",
    "#if it is not a stop word.\n",
    "    #term_freq\n",
    "    term_freq = []\n",
    "    for phrase in corpus2:\n",
    "        phrase2 = phrase.split(' ')\n",
    "        listwords = []\n",
    "        for word in bag_of_words:\n",
    "            listwords.append (phrase2.count (word))\n",
    "        term_freq.append(listwords)\n",
    "    \n",
    "#Now return your output as an object\n",
    "    return {\n",
    "        \"bag_of_words\": bag_of_words,\n",
    "        \"term_freq\": term_freq\n",
    "    }\n",
    "get_bow_from_docs(docs, stop_words)"
   ]
  },
  {
   "cell_type": "markdown",
   "metadata": {},
   "source": [
    "Test your function without stop words. You should see the output like below:\n",
    "\n",
    "```{'bag_of_words': ['ironhack', 'is', 'cool', 'i', 'love', 'am', 'a', 'student', 'at'], 'term_freq': [[1, 1, 1, 0, 0, 0, 0, 0, 0], [1, 0, 0, 1, 1, 0, 0, 0, 0], [1, 0, 0, 1, 0, 1, 1, 1, 1]]}```"
   ]
  },
  {
   "cell_type": "code",
   "execution_count": 61,
   "metadata": {},
   "outputs": [
    {
     "name": "stdout",
     "output_type": "stream",
     "text": [
      "['ironhack', 'is', 'cool', 'i', 'love', 'ironhack', 'i', 'am', 'a', 'student', 'at', 'ironhack']\n",
      "['at', 'i', 'student', 'cool', 'ironhack', 'is', 'love', 'am', 'a']\n",
      "{'bag_of_words': ['at', 'i', 'student', 'cool', 'ironhack', 'is', 'love', 'am', 'a'], 'term_freq': [[0, 0, 0, 1, 1, 1, 0, 0, 0], [0, 1, 0, 0, 1, 0, 1, 0, 0], [1, 1, 1, 0, 1, 0, 0, 1, 1]]}\n"
     ]
    }
   ],
   "source": [
    "# Define doc paths array\n",
    "docs = ['doc1.txt', 'doc2.txt', 'doc3.txt']\n",
    "\n",
    "# Obtain BoW from your function\n",
    "bow = get_bow_from_docs(docs)\n",
    "\n",
    "# Print BoW\n",
    "print(bow)"
   ]
  },
  {
   "cell_type": "markdown",
   "metadata": {},
   "source": [
    "If your attempt above is successful, nice work done!\n",
    "\n",
    "Now test your function again with the stop words. In the previous lab we defined the stop words in a large array. In this lab, we'll import the stop words from Scikit-Learn."
   ]
  },
  {
   "cell_type": "code",
   "execution_count": 60,
   "metadata": {},
   "outputs": [
    {
     "name": "stdout",
     "output_type": "stream",
     "text": [
      "frozenset({'wherein', 'be', 'three', 'give', 'they', 'fire', 'what', 'our', 'moreover', 'had', 'either', 'must', 'keep', 'same', 'these', 'all', 'no', 'he', 'two', 'six', 'empty', 'mill', 'us', 'put', 'once', 'besides', 'ten', 'me', 'couldnt', 'both', 'hence', 'yourselves', 'him', 'whole', 'at', 'con', 'former', 'throughout', 'whereas', 'everyone', 'there', 'off', 'whatever', 'whereafter', 'during', 'where', 'anywhere', 'along', 'becomes', 'myself', 'one', 'than', 'around', 'fifty', 'thus', 'with', 'mostly', 'eg', 'within', 'whereby', 'already', 'became', 'full', 'part', 'an', 'or', 'becoming', 'move', 'ltd', 'hers', 'therein', 'everywhere', 'any', 'also', 'found', 'how', 'most', 'please', 'has', 'under', 'many', 'sincere', 'above', 'and', 'else', 'in', 'below', 'latterly', 'cry', 'serious', 'up', 'this', 'yours', 'several', 'four', 'nor', 'could', 'less', 'from', 'am', 'my', 'afterwards', 'herein', 'sixty', 'them', 'still', 'nobody', 'seeming', 'himself', 'get', 'fifteen', 'ever', 'elsewhere', 'even', 'interest', 'everything', 'might', 'wherever', 'least', 'yourself', 'whoever', 'de', 'nowhere', 'since', 'hundred', 'thick', 'thin', 'show', 'neither', 'his', 'third', 'due', 'via', 'top', 'take', 'whether', 'too', 'it', 'side', 'now', 'though', 'out', 'beside', 'twenty', 're', 'co', 'un', 'ours', 'others', 'is', 'done', 'system', 'while', 'their', 'someone', 'your', 'enough', 'themselves', 'indeed', 'call', 'every', 'alone', 'except', 'find', 'why', 'front', 'see', 'over', 'otherwise', 'may', 'towards', 'so', 'inc', 'seem', 'whom', 'describe', 'twelve', 'should', 'a', 'behind', 'amount', 'become', 'somewhere', 'whenever', 'often', 'through', 'to', 'name', 'its', 'rather', 'itself', 'when', 'again', 'then', 'but', 'go', 'down', 'against', 'nevertheless', 'more', 'next', 'anything', 'which', 'she', 'such', 'beforehand', 'much', 'detail', 'formerly', 'etc', 'latter', 'if', 'seems', 'thereby', 'beyond', 'few', 'only', 'each', 'five', 'because', 'until', 'amongst', 'almost', 'thru', 'onto', 'were', 'however', 'seemed', 'whereupon', 'perhaps', 'without', 'among', 'anyone', 'therefore', 'into', 'as', 'would', 'anyhow', 'about', 'none', 'eight', 'are', 'cant', 'on', 'very', 'was', 'well', 'fill', 'anyway', 'not', 'of', 'toward', 'per', 'hasnt', 'always', 'cannot', 'noone', 'nothing', 'those', 'yet', 'do', 'after', 'whose', 'amoungst', 'her', 'never', 'thereafter', 'although', 'further', 'between', 'herself', 'hereafter', 'will', 'thereupon', 'hereby', 'own', 'for', 'sometime', 'have', 'sometimes', 'we', 'somehow', 'you', 'by', 'last', 'some', 'meanwhile', 'mine', 'bill', 'bottom', 'thence', 'whence', 'been', 'ourselves', 'who', 'another', 'being', 'together', 'eleven', 'made', 'can', 'hereupon', 'here', 'forty', 'across', 'whither', 'back', 'something', 'i', 'upon', 'before', 'that', 'the', 'ie', 'first', 'namely', 'nine', 'other'})\n"
     ]
    }
   ],
   "source": [
    "from sklearn.feature_extraction import stop_words\n",
    "print(stop_words.ENGLISH_STOP_WORDS)"
   ]
  },
  {
   "cell_type": "markdown",
   "metadata": {},
   "source": [
    "You should have seen a large list of words that looks like:\n",
    "\n",
    "```frozenset({'across', 'mine', 'cannot', ...})```\n",
    "\n",
    "`frozenset` is a type of Python object that is immutable. In this lab you can use it just like an array without conversion."
   ]
  },
  {
   "cell_type": "markdown",
   "metadata": {},
   "source": [
    "Next, test your function with supplying `stop_words.ENGLISH_STOP_WORDS` as the second parameter."
   ]
  },
  {
   "cell_type": "code",
   "execution_count": 63,
   "metadata": {},
   "outputs": [
    {
     "name": "stdout",
     "output_type": "stream",
     "text": [
      "['ironhack', 'cool', 'love', 'ironhack', 'student', 'ironhack']\n",
      "['cool', 'ironhack', 'love', 'student']\n",
      "{'bag_of_words': ['cool', 'ironhack', 'love', 'student'], 'term_freq': [[1, 1, 0, 0], [0, 1, 1, 0], [0, 1, 0, 1]]}\n"
     ]
    }
   ],
   "source": [
    "bow = get_bow_from_docs(docs, stop_words.ENGLISH_STOP_WORDS)\n",
    "\n",
    "print(bow)"
   ]
  },
  {
   "cell_type": "markdown",
   "metadata": {},
   "source": [
    "You should have seen:\n",
    "\n",
    "```{'bag_of_words': ['ironhack', 'cool', 'love', 'student'], 'term_freq': [[1, 1, 0, 0], [1, 0, 1, 0], [1, 0, 0, 1]]}```"
   ]
  }
 ],
 "metadata": {
  "kernelspec": {
   "display_name": "Python 3",
   "language": "python",
   "name": "python3"
  },
  "language_info": {
   "codemirror_mode": {
    "name": "ipython",
    "version": 3
   },
   "file_extension": ".py",
   "mimetype": "text/x-python",
   "name": "python",
   "nbconvert_exporter": "python",
   "pygments_lexer": "ipython3",
   "version": "3.7.3"
  }
 },
 "nbformat": 4,
 "nbformat_minor": 2
}
