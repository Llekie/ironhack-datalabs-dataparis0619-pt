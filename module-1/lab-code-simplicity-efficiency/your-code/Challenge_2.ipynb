{
 "cells": [
  {
   "cell_type": "code",
   "execution_count": 1,
   "metadata": {},
   "outputs": [],
   "source": [
    "import random\n",
    "import sys\n",
    "characters2 = ['abcdefghijklmnopqrstuvwxyz0123456789']\n",
    "characters = ['a','b','c','d','e','f','g','h','i','j','k','l','m','n','o','p','q','r','s','t','u','v','w','x','y','z','0','1','2','3','4','5','6','7','8','9']"
   ]
  },
  {
   "cell_type": "code",
   "execution_count": 17,
   "metadata": {},
   "outputs": [
    {
     "name": "stdout",
     "output_type": "stream",
     "text": [
      "Enter minimum string length: 5\n",
      "Enter maximum string length: 9\n",
      "How many random strings to generate? 6\n",
      "['whsoqznw', '71rsfa0', 'p0mmviix', 'w81em', 'zdnx0', 'tz5o1']\n"
     ]
    }
   ],
   "source": [
    "def RandomStringGenerator(Length=12, a=characters):\n",
    "    Randomstrings=''.join([random.choice(a) for i in range(Length)])\n",
    "    return Randomstrings\n",
    "\n",
    "def BatchStringGenerator(Length, Min=8, Max=12):\n",
    "    liste = []\n",
    "    for i in range(Length):\n",
    "        Length = None\n",
    "        if Min > Max:\n",
    "            sys.exit('Incorrect min and max string lengths. Try again.')\n",
    "        elif Min == Max:\n",
    "            Length = Min\n",
    "        else:\n",
    "            Length = random.choice(range(Min, Max))            \n",
    "        liste.append(RandomStringGenerator(Length))\n",
    "    return liste\n",
    "\n",
    "#inputs critères fonction\n",
    "Min = input('Enter minimum string length: ')\n",
    "Max = input('Enter maximum string length: ')\n",
    "Length = input('How many random strings to generate? ')\n",
    "\n",
    "print(BatchStringGenerator(int(Length), int(Min), int(Max)))\n"
   ]
  }
 ],
 "metadata": {
  "kernelspec": {
   "display_name": "Python 3",
   "language": "python",
   "name": "python3"
  },
  "language_info": {
   "codemirror_mode": {
    "name": "ipython",
    "version": 3
   },
   "file_extension": ".py",
   "mimetype": "text/x-python",
   "name": "python",
   "nbconvert_exporter": "python",
   "pygments_lexer": "ipython3",
   "version": "3.7.3"
  }
 },
 "nbformat": 4,
 "nbformat_minor": 2
}
