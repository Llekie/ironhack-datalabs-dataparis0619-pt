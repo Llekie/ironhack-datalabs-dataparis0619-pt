{
 "cells": [
  {
   "cell_type": "code",
   "execution_count": 8,
   "metadata": {},
   "outputs": [
    {
     "name": "stdout",
     "output_type": "stream",
     "text": [
      "Welcome to this calculator!\n",
      "It can add and subtract whole numbers from zero to five\n",
      "Please choose your first number (zero to five): one\n",
      "What do you want to do? plus or minus: minus\n",
      "Please choose your second number (zero to five): four\n",
      "one minus four equals minus three\n",
      "Thanks for using this calculator, goodbye :)\n"
     ]
    }
   ],
   "source": [
    "inletters = {'zero':0,'one':1,'two':2,'three':3,'four':4,'five':5,'six':6,'seven':7,'eight':8,'nine':9,'ten':10}\n",
    "\n",
    "invinletters = {}\n",
    "keysinletters = list(inletters.keys())\n",
    "for i in range(0, 11):\n",
    "    invinletters[i] = keysinletters[i]\n",
    "\n",
    "print('Welcome to this calculator!')\n",
    "print('It can add and subtract whole numbers from zero to five')\n",
    "\n",
    "#inputs\n",
    "a = input('Please choose your first number (zero to five): ')\n",
    "while a not in inletters:\n",
    "    a = input('your choice is not OK. Choose a number from zero to five')\n",
    "    \n",
    "b = input('What do you want to do? plus or minus: ')\n",
    "while b != 'plus' and b !='minus':\n",
    "    b = input('your choice is not OK. Choose a sign : plus or minus')\n",
    "    \n",
    "c = input('Please choose your second number (zero to five): ')\n",
    "while c not in inletters:\n",
    "    c = input('your choice is not OK. Choose a number from zero to five')\n",
    "\n",
    "#fonctions de calcul\n",
    "def minus (A,C):\n",
    "    calcul = A-C\n",
    "    if calcul < 0:\n",
    "        return \"minus \" + invinletters[abs(calcul)]\n",
    "    else:\n",
    "        return invinletters[calcul]\n",
    "\n",
    "def plus (A,C):\n",
    "    calcul = A+C\n",
    "    return invinletters[calcul]\n",
    "\n",
    "#calcul\n",
    "A = inletters[a]\n",
    "C = inletters[c]\n",
    "\n",
    "if b == \"minus\":\n",
    "    resultat = minus(A,C)\n",
    "    print(invinletters[A] + \" minus \" + invinletters[C]+ \" equals \" + resultat)\n",
    "else:\n",
    "    resultat = plus(A,C)\n",
    "    print(invinletters[A] + \" plus \" + invinletters[C]+ \" equals \" + resultat)\n",
    "\n",
    "print(\"Thanks for using this calculator, goodbye :)\")"
   ]
  },
  {
   "cell_type": "code",
   "execution_count": null,
   "metadata": {},
   "outputs": [],
   "source": []
  }
 ],
 "metadata": {
  "kernelspec": {
   "display_name": "Python 3",
   "language": "python",
   "name": "python3"
  },
  "language_info": {
   "codemirror_mode": {
    "name": "ipython",
    "version": 3
   },
   "file_extension": ".py",
   "mimetype": "text/x-python",
   "name": "python",
   "nbconvert_exporter": "python",
   "pygments_lexer": "ipython3",
   "version": "3.7.3"
  }
 },
 "nbformat": 4,
 "nbformat_minor": 2
}
